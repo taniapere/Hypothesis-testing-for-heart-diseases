{
 "cells": [
  {
   "cell_type": "code",
   "execution_count": 10,
   "metadata": {},
   "outputs": [],
   "source": [
    "import pandas as pd\n",
    "import numpy as np\n",
    "import matplotlib.pyplot as plt \n",
    "import seaborn as sns\n",
    "from scipy.stats import ttest_ind\n",
    "from scipy.stats import f_oneway\n",
    "from statsmodels.stats.multicomp import pairwise_tukeyhsd\n",
    "from scipy.stats import chi2_contingency\n",
    "from scipy.stats import ttest_1samp\n",
    "from scipy.stats import binom_test"
   ]
  },
  {
   "cell_type": "code",
   "execution_count": 3,
   "metadata": {},
   "outputs": [],
   "source": [
    "# load data\n",
    "heart = pd.read_csv('heart_disease.csv')\n",
    "yes_hd = heart[heart.heart_disease == 'presence']\n",
    "no_hd = heart[heart.heart_disease == 'absence']"
   ]
  },
  {
   "cell_type": "code",
   "execution_count": 7,
   "metadata": {},
   "outputs": [
    {
     "name": "stdout",
     "output_type": "stream",
     "text": [
      "0.007082206781031141\n"
     ]
    }
   ],
   "source": [
    "#investigate cholesterol levels for patients with heart disease\n",
    "chol_hd = yes_hd[\"chol\"]\n",
    "chol_hd_mean = np.mean(chol_hd)\n",
    "tstat, pval = ttest_1samp(chol_hd, 240)\n",
    "print(pval)\n",
    "#conclusion: the probability of hd people having chol level more than 240 is significant"
   ]
  },
  {
   "cell_type": "code",
   "execution_count": 8,
   "metadata": {},
   "outputs": [
    {
     "name": "stdout",
     "output_type": "stream",
     "text": [
      "0.5279424046444101\n"
     ]
    }
   ],
   "source": [
    "#investigate cholesterol levels for patients without heart disease\n",
    "chol_no_hd = no_hd[\"chol\"]\n",
    "chol_no_hd_mean = np.mean(chol_no_hd)\n",
    "tstat, pval = ttest_1samp(chol_no_hd, 240)\n",
    "print(pval)\n",
    "#probability of people without hd having chol more than 240 is not significant"
   ]
  },
  {
   "cell_type": "code",
   "execution_count": 11,
   "metadata": {},
   "outputs": [
    {
     "name": "stdout",
     "output_type": "stream",
     "text": [
      "4.689471951449078e-05\n"
     ]
    }
   ],
   "source": [
    "#fasting blood sugar analysis\n",
    "num_patients = len(heart)\n",
    "num_highfbs_patients = np.sum(heart.fbs == 1)\n",
    "# amount of people having diabets due to 1988 research:\n",
    "amount = 303*0.08\n",
    "# binominal test Null: 8% Alternative: more than 8%\n",
    "pval_binom = binom_test(num_highfbs_patients, num_patients, 0.08, alternative = \"greater\")\n",
    "print(pval_binom)\n",
    "#the probability is from population of 8%\n"
   ]
  },
  {
   "cell_type": "code",
   "execution_count": 12,
   "metadata": {},
   "outputs": [
    {
     "data": {
      "image/png": "[encoded data removed]",
      "text/plain": [
       "<Figure size 432x288 with 1 Axes>"
      ]
     },
     "metadata": {
      "needs_background": "light"
     },
     "output_type": "display_data"
    }
   ],
   "source": [
    "sns.boxplot(x = heart.heart_disease, y = heart.thalach)\n",
    "plt.show()\n",
    "thalach_hd = heart.thalach[heart.heart_disease == \"presence\"]\n",
    "thalach_no_hd = heart.thalach[heart.heart_disease == \"absence\"]\n",
    "mean_diff = np.mean(thalach_hd) - np.mean(thalach_no_hd)"
   ]
  },
  {
   "cell_type": "code",
   "execution_count": 13,
   "metadata": {},
   "outputs": [
    {
     "name": "stdout",
     "output_type": "stream",
     "text": [
      "3.456964908430172e-14\n"
     ]
    }
   ],
   "source": [
    "#finding out if the average thalach of a heart disease patient is significantly different from the average thalach for a person without heart disease\n",
    "tstat, pval = ttest_ind(thalach_hd, thalach_no_hd)\n",
    "print(pval)\n",
    "#Conclusion: the difference is significant"
   ]
  },
  {
   "cell_type": "code",
   "execution_count": 14,
   "metadata": {},
   "outputs": [
    {
     "data": {
      "image/png": "[encoded data removed]",
      "text/plain": [
       "<Figure size 432x288 with 1 Axes>"
      ]
     },
     "metadata": {
      "needs_background": "light"
     },
     "output_type": "display_data"
    },
    {
     "name": "stdout",
     "output_type": "stream",
     "text": [
      "1.9065505247705008e-10\n",
      "           Multiple Comparison of Means - Tukey HSD, FWER=0.05           \n",
      "=========================================================================\n",
      "     group1           group2      meandiff p-adj   lower    upper  reject\n",
      "-------------------------------------------------------------------------\n",
      "    asymptomatic  atypical angina  21.7394  0.001  12.7439  30.735   True\n",
      "    asymptomatic non-anginal pain  14.7264  0.001    7.258 22.1948   True\n",
      "    asymptomatic   typical angina   15.276 0.0081   2.9702 27.5817   True\n",
      " atypical angina non-anginal pain   -7.013 0.2481 -16.7591   2.733  False\n",
      " atypical angina   typical angina  -6.4635 0.6069 -20.2707  7.3438  False\n",
      "non-anginal pain   typical angina   0.5495    0.9  -12.315 13.4141  False\n",
      "-------------------------------------------------------------------------\n"
     ]
    }
   ],
   "source": [
    "plt.clf()\n",
    "sns.boxplot(x = heart.thalach, y = heart.cp)\n",
    "plt.show()\n",
    " #find the significance of chest pain thalach\n",
    "thalach_typical = heart.thalach[heart.cp == \"typical angina\"]\n",
    "thalach_asymptom = heart.thalach[heart.cp == \"asymptomatic\"]\n",
    "thalach_nonangin = heart.thalach[heart.cp == \"non-anginal pain\"]\n",
    "thalach_atypical = heart.thalach[heart.cp == \"atypical angina\"]\n",
    "fstat, pval_two = f_oneway(thalach_typical, thalach_asymptom,thalach_nonangin,  thalach_atypical)\n",
    "print(pval_two)\n",
    "pval_three = pairwise_tukeyhsd(heart.thalach, heart.cp)\n",
    "print(pval_three)"
   ]
  },
  {
   "cell_type": "code",
   "execution_count": 16,
   "metadata": {},
   "outputs": [
    {
     "name": "stdout",
     "output_type": "stream",
     "text": [
      "1.2517106007837527e-17\n",
      "heart_disease     absence  presence\n",
      "cp                                 \n",
      "asymptomatic           39       105\n",
      "atypical angina        41         9\n",
      "non-anginal pain       68        18\n",
      "typical angina         16         7\n"
     ]
    }
   ],
   "source": [
    "#investigate the relationship between the kind of chest pain a person experiences and whether or not they have heart disease\n",
    "\n",
    "Xtab = pd.crosstab(heart.cp, heart.heart_disease)\n",
    "chi2, pval_four, dof, expected = chi2_contingency(Xtab)\n",
    "print(pval_four)\n",
    "print(Xtab)"
   ]
  }
 ],
 "metadata": {
  "kernelspec": {
   "display_name": "Python 3",
   "language": "python",
   "name": "python3"
  },
  "language_info": {
   "codemirror_mode": {
    "name": "ipython",
    "version": 3
   },
   "file_extension": ".py",
   "mimetype": "text/x-python",
   "name": "python",
   "nbconvert_exporter": "python",
   "pygments_lexer": "ipython3",
   "version": "3.8.3"
  }
 },
 "nbformat": 4,
 "nbformat_minor": 4
}
